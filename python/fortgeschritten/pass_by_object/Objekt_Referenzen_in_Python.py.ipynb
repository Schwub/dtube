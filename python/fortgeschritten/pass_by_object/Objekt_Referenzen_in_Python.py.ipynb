{
 "cells": [
  {
   "cell_type": "code",
   "execution_count": 245,
   "metadata": {},
   "outputs": [],
   "source": [
    "from __future__ import print_function"
   ]
  },
  {
   "cell_type": "markdown",
   "metadata": {},
   "source": [
    "# 1. Immutable vs Mutable\n",
    "\n",
    "Immutable Objekte:\n",
    "- int\n",
    "- float \n",
    "- string\n",
    "- bool\n",
    "- tuple\n",
    "- range\n",
    "- ...\n",
    "\n",
    "Mutable Objekte:\n",
    "- list\n",
    "- dict\n",
    "- set\n",
    "- Eigene Klassen\n",
    "- ..."
   ]
  },
  {
   "cell_type": "markdown",
   "metadata": {},
   "source": [
    "# 2.Variablenbelegung"
   ]
  },
  {
   "cell_type": "code",
   "execution_count": 243,
   "metadata": {},
   "outputs": [
    {
     "name": "stdout",
     "output_type": "stream",
     "text": [
      "int_a: 5 , id: 94659369939240\n",
      "int_b: 5 , id: 94659369939240\n"
     ]
    }
   ],
   "source": [
    "int_a = 5\n",
    "int_b = int_a\n",
    "print(\"int_a:\", int_a, \", id:\", id(int_a))\n",
    "print(\"int_b:\", int_b, \", id:\", id(int_b))"
   ]
  },
  {
   "cell_type": "code",
   "execution_count": 244,
   "metadata": {},
   "outputs": [
    {
     "name": "stdout",
     "output_type": "stream",
     "text": [
      "int_a: 5 , id: 94659369939240\n",
      "int_b: 0 , id: 94659369939360\n"
     ]
    }
   ],
   "source": [
    "int_b = 0\n",
    "print(\"int_a:\", int_a, \", id:\", id(int_a))\n",
    "print(\"int_b:\", int_b, \", id:\", id(int_b))"
   ]
  },
  {
   "cell_type": "code",
   "execution_count": null,
   "metadata": {},
   "outputs": [],
   "source": [
    "list_a = list(range(5))\n",
    "list_b = list_a\n",
    "print(\"list_a:\", list_a, \", id:\", id(list_a))\n",
    "print(\"list_b:\", list_b, \", id:\", id(list_b))"
   ]
  },
  {
   "cell_type": "code",
   "execution_count": null,
   "metadata": {},
   "outputs": [],
   "source": [
    "list_b = 0\n",
    "print(\"list_a:\", list_a, \", id:\", id(list_a))\n",
    "print(\"list_b:\", list_b, \", id:\", id(list_b))"
   ]
  },
  {
   "cell_type": "code",
   "execution_count": null,
   "metadata": {},
   "outputs": [],
   "source": [
    "list_b = list_a\n",
    "list_b = list(range(10))\n",
    "print(\"list_a:\", list_a, \", id:\", id(list_a))\n",
    "print(\"list_b:\", list_b, \", id:\", id(list_b))"
   ]
  },
  {
   "cell_type": "markdown",
   "metadata": {},
   "source": [
    "# 3. Mutable Objekte verändern"
   ]
  },
  {
   "cell_type": "code",
   "execution_count": null,
   "metadata": {},
   "outputs": [],
   "source": [
    "list_a = range(10)\n",
    "list_b = list_a\n",
    "list_b.pop()\n",
    "print(\"list_a:\", list_a, \", id:\", id(list_a))\n",
    "print(\"list_b:\", list_b, \", id:\", id(list_b))"
   ]
  },
  {
   "cell_type": "code",
   "execution_count": null,
   "metadata": {},
   "outputs": [],
   "source": [
    "list_b = list_a[:]\n",
    "#In python3 you can use list_b = list_a.copy()\n",
    "list_b.pop()\n",
    "print(\"list_a:\", list_a, \", id:\", id(list_a))\n",
    "print(\"list_b:\", list_b, \", id:\", id(list_b))"
   ]
  },
  {
   "cell_type": "markdown",
   "metadata": {},
   "source": [
    "# 4. Variablen als Funkionsparameter"
   ]
  },
  {
   "cell_type": "code",
   "execution_count": 97,
   "metadata": {},
   "outputs": [
    {
     "name": "stdout",
     "output_type": "stream",
     "text": [
      "x: 5 , id: 94659369939240\n"
     ]
    }
   ],
   "source": [
    "x = 5\n",
    "print(\"x:\", x, \", id:\", id(x))"
   ]
  },
  {
   "cell_type": "code",
   "execution_count": 100,
   "metadata": {},
   "outputs": [
    {
     "name": "stdout",
     "output_type": "stream",
     "text": [
      "x: test , id: 140513912157696\n"
     ]
    }
   ],
   "source": [
    "x = \"test\"\n",
    "print(\"x:\", x, \", id:\", id(x))"
   ]
  },
  {
   "cell_type": "code",
   "execution_count": 107,
   "metadata": {},
   "outputs": [
    {
     "name": "stdout",
     "output_type": "stream",
     "text": [
      "Vor dem Funktionsaufruf: 5 , id: 94659369939240\n",
      "Im Funktionsaufruf: 5 , id: 94659369939240\n",
      "Nach der Neubelegung: Im a String now , id: 140513528144480\n"
     ]
    }
   ],
   "source": [
    "def reassign(x):\n",
    "    print(\"Im Funktionsaufruf:\", x, \", id:\", id(x))\n",
    "    x = \"Im a String now\"\n",
    "    print(\"Nach der Neubelegung:\", x, \", id:\", id(x))\n",
    "\n",
    "x = 5\n",
    "print(\"Vor dem Funktionsaufruf:\", x, \", id:\", id(x))\n",
    "reassign(x)"
   ]
  },
  {
   "cell_type": "code",
   "execution_count": 178,
   "metadata": {},
   "outputs": [
    {
     "name": "stdout",
     "output_type": "stream",
     "text": [
      "Nach dem Funktionsaufruf: [0, 1, 2, 3] , id: 140513527826336\n"
     ]
    }
   ],
   "source": [
    "print(\"Nach dem Funktionsaufruf:\", x, \", id:\", id(x))"
   ]
  },
  {
   "cell_type": "code",
   "execution_count": 179,
   "metadata": {},
   "outputs": [
    {
     "name": "stdout",
     "output_type": "stream",
     "text": [
      "Vor dem Funktionsaufruf: [0, 1, 2, 3, 4] , id: 140513527827776\n",
      "Im Funktionsaufruf: [0, 1, 2, 3, 4] , id: 140513527827776\n",
      "Nach der Neubelegung: [0, 1, 2, 3] , id: 140513527827776\n",
      "Nach dem Funktionsaufruf: [0, 1, 2, 3] , id: 140513527827776\n"
     ]
    }
   ],
   "source": [
    "def pop(x):\n",
    "    print(\"Im Funktionsaufruf:\", x, \", id:\", id(x))\n",
    "    x.pop()\n",
    "    print(\"Nach der Neubelegung:\", x, \", id:\", id(x))\n",
    "    \n",
    "x = list(range(5))\n",
    "print(\"Vor dem Funktionsaufruf:\", x, \", id:\", id(x))\n",
    "pop(x)\n",
    "print(\"Nach dem Funktionsaufruf:\", x, \", id:\", id(x))"
   ]
  },
  {
   "cell_type": "code",
   "execution_count": 242,
   "metadata": {},
   "outputs": [],
   "source": [
    "class beispiel():\n",
    "    def __init__(self):\n",
    "        self.t = ()\n",
    "        \n",
    "    def update_t(self, t):\n",
    "        self.t = t\n",
    "        \n",
    "def update_t(beispiel, t):\n",
    "    beispiel.t = t\n",
    "    \n",
    "def update_t_2(t, new_t):\n",
    "    t = new_t"
   ]
  },
  {
   "cell_type": "code",
   "execution_count": 237,
   "metadata": {},
   "outputs": [
    {
     "name": "stdout",
     "output_type": "stream",
     "text": [
      "()\n"
     ]
    }
   ],
   "source": [
    "b = beispiel()\n",
    "print(b.t)"
   ]
  },
  {
   "cell_type": "code",
   "execution_count": 238,
   "metadata": {},
   "outputs": [
    {
     "name": "stdout",
     "output_type": "stream",
     "text": [
      "(0, 1)\n"
     ]
    }
   ],
   "source": [
    "update_t(b, tuple(range(2)))\n",
    "print(b.t)"
   ]
  },
  {
   "cell_type": "code",
   "execution_count": 239,
   "metadata": {},
   "outputs": [
    {
     "name": "stdout",
     "output_type": "stream",
     "text": [
      "(0, 1, 2)\n"
     ]
    }
   ],
   "source": [
    "b.update_t(tuple(range(3)))\n",
    "print(b.t)"
   ]
  },
  {
   "cell_type": "code",
   "execution_count": 241,
   "metadata": {},
   "outputs": [
    {
     "name": "stdout",
     "output_type": "stream",
     "text": [
      "(0, 1, 2)\n"
     ]
    }
   ],
   "source": [
    "update_t_2(b.t, tuple(range(4)))\n",
    "print(b.t)"
   ]
  }
 ],
 "metadata": {
  "kernelspec": {
   "display_name": "Python 3",
   "language": "python",
   "name": "python3"
  },
  "language_info": {
   "codemirror_mode": {
    "name": "ipython",
    "version": 2
   },
   "file_extension": ".py",
   "mimetype": "text/x-python",
   "name": "python",
   "nbconvert_exporter": "python",
   "pygments_lexer": "ipython2",
   "version": "2.7.13"
  }
 },
 "nbformat": 4,
 "nbformat_minor": 2
}
